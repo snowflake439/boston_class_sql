{
 "cells": [
  {
   "cell_type": "code",
   "execution_count": 17,
   "id": "a60533db",
   "metadata": {},
   "outputs": [],
   "source": [
    "import pandas as pd\n",
    "import numpy as np\n",
    "import matplotlib.pyplot as plt\n",
    "import seaborn as sns\n",
    "\n",
    "from sklearn.datasets import load_boston # \n",
    "from sklearn.preprocessing import MinMaxScaler,StandardScaler #\n",
    "\n",
    "from sklearn.model_selection import train_test_split\n",
    "\n",
    "from sklearn.neighbors import KNeighborsRegressor\n",
    "from sklearn.linear_model import LinearRegression\n",
    "\n",
    "from sklearn.metrics import mean_absolute_error,mean_squared_error,r2_score\n",
    "import pickle\n",
    "import json\n",
    "import warnings\n",
    "warnings.filterwarnings(\"ignore\")"
   ]
  },
  {
   "cell_type": "markdown",
   "id": "933a3a99",
   "metadata": {},
   "source": [
    "## 1) Problem Statment"
   ]
  },
  {
   "cell_type": "code",
   "execution_count": null,
   "id": "c62c4473",
   "metadata": {},
   "outputs": [],
   "source": [
    "# Predict the house price "
   ]
  },
  {
   "cell_type": "markdown",
   "id": "bb126581",
   "metadata": {},
   "source": [
    "## 2) Data Gathering & Data Validation"
   ]
  },
  {
   "cell_type": "code",
   "execution_count": 7,
   "id": "b9e9e820",
   "metadata": {},
   "outputs": [
    {
     "data": {
      "text/html": [
       "<div>\n",
       "<style scoped>\n",
       "    .dataframe tbody tr th:only-of-type {\n",
       "        vertical-align: middle;\n",
       "    }\n",
       "\n",
       "    .dataframe tbody tr th {\n",
       "        vertical-align: top;\n",
       "    }\n",
       "\n",
       "    .dataframe thead th {\n",
       "        text-align: right;\n",
       "    }\n",
       "</style>\n",
       "<table border=\"1\" class=\"dataframe\">\n",
       "  <thead>\n",
       "    <tr style=\"text-align: right;\">\n",
       "      <th></th>\n",
       "      <th>CRIM</th>\n",
       "      <th>ZN</th>\n",
       "      <th>INDUS</th>\n",
       "      <th>CHAS</th>\n",
       "      <th>NOX</th>\n",
       "      <th>RM</th>\n",
       "      <th>AGE</th>\n",
       "      <th>DIS</th>\n",
       "      <th>RAD</th>\n",
       "      <th>TAX</th>\n",
       "      <th>PTRATIO</th>\n",
       "      <th>B</th>\n",
       "      <th>LSTAT</th>\n",
       "      <th>Price</th>\n",
       "    </tr>\n",
       "  </thead>\n",
       "  <tbody>\n",
       "    <tr>\n",
       "      <th>0</th>\n",
       "      <td>0.00632</td>\n",
       "      <td>18.0</td>\n",
       "      <td>2.31</td>\n",
       "      <td>0.0</td>\n",
       "      <td>0.538</td>\n",
       "      <td>6.575</td>\n",
       "      <td>65.2</td>\n",
       "      <td>4.0900</td>\n",
       "      <td>1.0</td>\n",
       "      <td>296.0</td>\n",
       "      <td>15.3</td>\n",
       "      <td>396.90</td>\n",
       "      <td>4.98</td>\n",
       "      <td>24.0</td>\n",
       "    </tr>\n",
       "    <tr>\n",
       "      <th>1</th>\n",
       "      <td>0.02731</td>\n",
       "      <td>0.0</td>\n",
       "      <td>7.07</td>\n",
       "      <td>0.0</td>\n",
       "      <td>0.469</td>\n",
       "      <td>6.421</td>\n",
       "      <td>78.9</td>\n",
       "      <td>4.9671</td>\n",
       "      <td>2.0</td>\n",
       "      <td>242.0</td>\n",
       "      <td>17.8</td>\n",
       "      <td>396.90</td>\n",
       "      <td>9.14</td>\n",
       "      <td>21.6</td>\n",
       "    </tr>\n",
       "    <tr>\n",
       "      <th>2</th>\n",
       "      <td>0.02729</td>\n",
       "      <td>0.0</td>\n",
       "      <td>7.07</td>\n",
       "      <td>0.0</td>\n",
       "      <td>0.469</td>\n",
       "      <td>7.185</td>\n",
       "      <td>61.1</td>\n",
       "      <td>4.9671</td>\n",
       "      <td>2.0</td>\n",
       "      <td>242.0</td>\n",
       "      <td>17.8</td>\n",
       "      <td>392.83</td>\n",
       "      <td>4.03</td>\n",
       "      <td>34.7</td>\n",
       "    </tr>\n",
       "    <tr>\n",
       "      <th>3</th>\n",
       "      <td>0.03237</td>\n",
       "      <td>0.0</td>\n",
       "      <td>2.18</td>\n",
       "      <td>0.0</td>\n",
       "      <td>0.458</td>\n",
       "      <td>6.998</td>\n",
       "      <td>45.8</td>\n",
       "      <td>6.0622</td>\n",
       "      <td>3.0</td>\n",
       "      <td>222.0</td>\n",
       "      <td>18.7</td>\n",
       "      <td>394.63</td>\n",
       "      <td>2.94</td>\n",
       "      <td>33.4</td>\n",
       "    </tr>\n",
       "    <tr>\n",
       "      <th>4</th>\n",
       "      <td>0.06905</td>\n",
       "      <td>0.0</td>\n",
       "      <td>2.18</td>\n",
       "      <td>0.0</td>\n",
       "      <td>0.458</td>\n",
       "      <td>7.147</td>\n",
       "      <td>54.2</td>\n",
       "      <td>6.0622</td>\n",
       "      <td>3.0</td>\n",
       "      <td>222.0</td>\n",
       "      <td>18.7</td>\n",
       "      <td>396.90</td>\n",
       "      <td>5.33</td>\n",
       "      <td>36.2</td>\n",
       "    </tr>\n",
       "    <tr>\n",
       "      <th>...</th>\n",
       "      <td>...</td>\n",
       "      <td>...</td>\n",
       "      <td>...</td>\n",
       "      <td>...</td>\n",
       "      <td>...</td>\n",
       "      <td>...</td>\n",
       "      <td>...</td>\n",
       "      <td>...</td>\n",
       "      <td>...</td>\n",
       "      <td>...</td>\n",
       "      <td>...</td>\n",
       "      <td>...</td>\n",
       "      <td>...</td>\n",
       "      <td>...</td>\n",
       "    </tr>\n",
       "    <tr>\n",
       "      <th>501</th>\n",
       "      <td>0.06263</td>\n",
       "      <td>0.0</td>\n",
       "      <td>11.93</td>\n",
       "      <td>0.0</td>\n",
       "      <td>0.573</td>\n",
       "      <td>6.593</td>\n",
       "      <td>69.1</td>\n",
       "      <td>2.4786</td>\n",
       "      <td>1.0</td>\n",
       "      <td>273.0</td>\n",
       "      <td>21.0</td>\n",
       "      <td>391.99</td>\n",
       "      <td>9.67</td>\n",
       "      <td>22.4</td>\n",
       "    </tr>\n",
       "    <tr>\n",
       "      <th>502</th>\n",
       "      <td>0.04527</td>\n",
       "      <td>0.0</td>\n",
       "      <td>11.93</td>\n",
       "      <td>0.0</td>\n",
       "      <td>0.573</td>\n",
       "      <td>6.120</td>\n",
       "      <td>76.7</td>\n",
       "      <td>2.2875</td>\n",
       "      <td>1.0</td>\n",
       "      <td>273.0</td>\n",
       "      <td>21.0</td>\n",
       "      <td>396.90</td>\n",
       "      <td>9.08</td>\n",
       "      <td>20.6</td>\n",
       "    </tr>\n",
       "    <tr>\n",
       "      <th>503</th>\n",
       "      <td>0.06076</td>\n",
       "      <td>0.0</td>\n",
       "      <td>11.93</td>\n",
       "      <td>0.0</td>\n",
       "      <td>0.573</td>\n",
       "      <td>6.976</td>\n",
       "      <td>91.0</td>\n",
       "      <td>2.1675</td>\n",
       "      <td>1.0</td>\n",
       "      <td>273.0</td>\n",
       "      <td>21.0</td>\n",
       "      <td>396.90</td>\n",
       "      <td>5.64</td>\n",
       "      <td>23.9</td>\n",
       "    </tr>\n",
       "    <tr>\n",
       "      <th>504</th>\n",
       "      <td>0.10959</td>\n",
       "      <td>0.0</td>\n",
       "      <td>11.93</td>\n",
       "      <td>0.0</td>\n",
       "      <td>0.573</td>\n",
       "      <td>6.794</td>\n",
       "      <td>89.3</td>\n",
       "      <td>2.3889</td>\n",
       "      <td>1.0</td>\n",
       "      <td>273.0</td>\n",
       "      <td>21.0</td>\n",
       "      <td>393.45</td>\n",
       "      <td>6.48</td>\n",
       "      <td>22.0</td>\n",
       "    </tr>\n",
       "    <tr>\n",
       "      <th>505</th>\n",
       "      <td>0.04741</td>\n",
       "      <td>0.0</td>\n",
       "      <td>11.93</td>\n",
       "      <td>0.0</td>\n",
       "      <td>0.573</td>\n",
       "      <td>6.030</td>\n",
       "      <td>80.8</td>\n",
       "      <td>2.5050</td>\n",
       "      <td>1.0</td>\n",
       "      <td>273.0</td>\n",
       "      <td>21.0</td>\n",
       "      <td>396.90</td>\n",
       "      <td>7.88</td>\n",
       "      <td>11.9</td>\n",
       "    </tr>\n",
       "  </tbody>\n",
       "</table>\n",
       "<p>506 rows × 14 columns</p>\n",
       "</div>"
      ],
      "text/plain": [
       "        CRIM    ZN  INDUS  CHAS    NOX     RM   AGE     DIS  RAD    TAX  \\\n",
       "0    0.00632  18.0   2.31   0.0  0.538  6.575  65.2  4.0900  1.0  296.0   \n",
       "1    0.02731   0.0   7.07   0.0  0.469  6.421  78.9  4.9671  2.0  242.0   \n",
       "2    0.02729   0.0   7.07   0.0  0.469  7.185  61.1  4.9671  2.0  242.0   \n",
       "3    0.03237   0.0   2.18   0.0  0.458  6.998  45.8  6.0622  3.0  222.0   \n",
       "4    0.06905   0.0   2.18   0.0  0.458  7.147  54.2  6.0622  3.0  222.0   \n",
       "..       ...   ...    ...   ...    ...    ...   ...     ...  ...    ...   \n",
       "501  0.06263   0.0  11.93   0.0  0.573  6.593  69.1  2.4786  1.0  273.0   \n",
       "502  0.04527   0.0  11.93   0.0  0.573  6.120  76.7  2.2875  1.0  273.0   \n",
       "503  0.06076   0.0  11.93   0.0  0.573  6.976  91.0  2.1675  1.0  273.0   \n",
       "504  0.10959   0.0  11.93   0.0  0.573  6.794  89.3  2.3889  1.0  273.0   \n",
       "505  0.04741   0.0  11.93   0.0  0.573  6.030  80.8  2.5050  1.0  273.0   \n",
       "\n",
       "     PTRATIO       B  LSTAT  Price  \n",
       "0       15.3  396.90   4.98   24.0  \n",
       "1       17.8  396.90   9.14   21.6  \n",
       "2       17.8  392.83   4.03   34.7  \n",
       "3       18.7  394.63   2.94   33.4  \n",
       "4       18.7  396.90   5.33   36.2  \n",
       "..       ...     ...    ...    ...  \n",
       "501     21.0  391.99   9.67   22.4  \n",
       "502     21.0  396.90   9.08   20.6  \n",
       "503     21.0  396.90   5.64   23.9  \n",
       "504     21.0  393.45   6.48   22.0  \n",
       "505     21.0  396.90   7.88   11.9  \n",
       "\n",
       "[506 rows x 14 columns]"
      ]
     },
     "execution_count": 7,
     "metadata": {},
     "output_type": "execute_result"
    }
   ],
   "source": [
    "boston_load = load_boston()\n",
    "df = pd.DataFrame(boston_load.data,columns=boston_load.feature_names)\n",
    "df[\"Price\"] = boston_load.target\n",
    "df"
   ]
  },
  {
   "cell_type": "markdown",
   "id": "47af68d6",
   "metadata": {},
   "source": [
    "## 3) EDA"
   ]
  },
  {
   "cell_type": "code",
   "execution_count": 8,
   "id": "106e1bb3",
   "metadata": {},
   "outputs": [
    {
     "data": {
      "text/plain": [
       "CRIM       0.0\n",
       "ZN         0.0\n",
       "INDUS      0.0\n",
       "CHAS       0.0\n",
       "NOX        0.0\n",
       "RM         0.0\n",
       "AGE        0.0\n",
       "DIS        0.0\n",
       "RAD        0.0\n",
       "TAX        0.0\n",
       "PTRATIO    0.0\n",
       "B          0.0\n",
       "LSTAT      0.0\n",
       "Price      0.0\n",
       "dtype: float64"
      ]
     },
     "execution_count": 8,
     "metadata": {},
     "output_type": "execute_result"
    }
   ],
   "source": [
    "# df.info()\n",
    "# df.isna().sum()\n",
    "df.isna().mean()*100"
   ]
  },
  {
   "cell_type": "code",
   "execution_count": 9,
   "id": "d1f114ac",
   "metadata": {},
   "outputs": [
    {
     "data": {
      "text/html": [
       "<div>\n",
       "<style scoped>\n",
       "    .dataframe tbody tr th:only-of-type {\n",
       "        vertical-align: middle;\n",
       "    }\n",
       "\n",
       "    .dataframe tbody tr th {\n",
       "        vertical-align: top;\n",
       "    }\n",
       "\n",
       "    .dataframe thead th {\n",
       "        text-align: right;\n",
       "    }\n",
       "</style>\n",
       "<table border=\"1\" class=\"dataframe\">\n",
       "  <thead>\n",
       "    <tr style=\"text-align: right;\">\n",
       "      <th></th>\n",
       "      <th>CRIM</th>\n",
       "      <th>ZN</th>\n",
       "      <th>INDUS</th>\n",
       "      <th>CHAS</th>\n",
       "      <th>NOX</th>\n",
       "      <th>RM</th>\n",
       "      <th>AGE</th>\n",
       "      <th>DIS</th>\n",
       "      <th>RAD</th>\n",
       "      <th>TAX</th>\n",
       "      <th>PTRATIO</th>\n",
       "      <th>B</th>\n",
       "      <th>LSTAT</th>\n",
       "      <th>Price</th>\n",
       "    </tr>\n",
       "  </thead>\n",
       "  <tbody>\n",
       "    <tr>\n",
       "      <th>count</th>\n",
       "      <td>506.000000</td>\n",
       "      <td>506.000000</td>\n",
       "      <td>506.000000</td>\n",
       "      <td>506.000000</td>\n",
       "      <td>506.000000</td>\n",
       "      <td>506.000000</td>\n",
       "      <td>506.000000</td>\n",
       "      <td>506.000000</td>\n",
       "      <td>506.000000</td>\n",
       "      <td>506.000000</td>\n",
       "      <td>506.000000</td>\n",
       "      <td>506.000000</td>\n",
       "      <td>506.000000</td>\n",
       "      <td>506.000000</td>\n",
       "    </tr>\n",
       "    <tr>\n",
       "      <th>mean</th>\n",
       "      <td>3.613524</td>\n",
       "      <td>11.363636</td>\n",
       "      <td>11.136779</td>\n",
       "      <td>0.069170</td>\n",
       "      <td>0.554695</td>\n",
       "      <td>6.284634</td>\n",
       "      <td>68.574901</td>\n",
       "      <td>3.795043</td>\n",
       "      <td>9.549407</td>\n",
       "      <td>408.237154</td>\n",
       "      <td>18.455534</td>\n",
       "      <td>356.674032</td>\n",
       "      <td>12.653063</td>\n",
       "      <td>22.532806</td>\n",
       "    </tr>\n",
       "    <tr>\n",
       "      <th>std</th>\n",
       "      <td>8.601545</td>\n",
       "      <td>23.322453</td>\n",
       "      <td>6.860353</td>\n",
       "      <td>0.253994</td>\n",
       "      <td>0.115878</td>\n",
       "      <td>0.702617</td>\n",
       "      <td>28.148861</td>\n",
       "      <td>2.105710</td>\n",
       "      <td>8.707259</td>\n",
       "      <td>168.537116</td>\n",
       "      <td>2.164946</td>\n",
       "      <td>91.294864</td>\n",
       "      <td>7.141062</td>\n",
       "      <td>9.197104</td>\n",
       "    </tr>\n",
       "    <tr>\n",
       "      <th>min</th>\n",
       "      <td>0.006320</td>\n",
       "      <td>0.000000</td>\n",
       "      <td>0.460000</td>\n",
       "      <td>0.000000</td>\n",
       "      <td>0.385000</td>\n",
       "      <td>3.561000</td>\n",
       "      <td>2.900000</td>\n",
       "      <td>1.129600</td>\n",
       "      <td>1.000000</td>\n",
       "      <td>187.000000</td>\n",
       "      <td>12.600000</td>\n",
       "      <td>0.320000</td>\n",
       "      <td>1.730000</td>\n",
       "      <td>5.000000</td>\n",
       "    </tr>\n",
       "    <tr>\n",
       "      <th>25%</th>\n",
       "      <td>0.082045</td>\n",
       "      <td>0.000000</td>\n",
       "      <td>5.190000</td>\n",
       "      <td>0.000000</td>\n",
       "      <td>0.449000</td>\n",
       "      <td>5.885500</td>\n",
       "      <td>45.025000</td>\n",
       "      <td>2.100175</td>\n",
       "      <td>4.000000</td>\n",
       "      <td>279.000000</td>\n",
       "      <td>17.400000</td>\n",
       "      <td>375.377500</td>\n",
       "      <td>6.950000</td>\n",
       "      <td>17.025000</td>\n",
       "    </tr>\n",
       "    <tr>\n",
       "      <th>50%</th>\n",
       "      <td>0.256510</td>\n",
       "      <td>0.000000</td>\n",
       "      <td>9.690000</td>\n",
       "      <td>0.000000</td>\n",
       "      <td>0.538000</td>\n",
       "      <td>6.208500</td>\n",
       "      <td>77.500000</td>\n",
       "      <td>3.207450</td>\n",
       "      <td>5.000000</td>\n",
       "      <td>330.000000</td>\n",
       "      <td>19.050000</td>\n",
       "      <td>391.440000</td>\n",
       "      <td>11.360000</td>\n",
       "      <td>21.200000</td>\n",
       "    </tr>\n",
       "    <tr>\n",
       "      <th>75%</th>\n",
       "      <td>3.677083</td>\n",
       "      <td>12.500000</td>\n",
       "      <td>18.100000</td>\n",
       "      <td>0.000000</td>\n",
       "      <td>0.624000</td>\n",
       "      <td>6.623500</td>\n",
       "      <td>94.075000</td>\n",
       "      <td>5.188425</td>\n",
       "      <td>24.000000</td>\n",
       "      <td>666.000000</td>\n",
       "      <td>20.200000</td>\n",
       "      <td>396.225000</td>\n",
       "      <td>16.955000</td>\n",
       "      <td>25.000000</td>\n",
       "    </tr>\n",
       "    <tr>\n",
       "      <th>max</th>\n",
       "      <td>88.976200</td>\n",
       "      <td>100.000000</td>\n",
       "      <td>27.740000</td>\n",
       "      <td>1.000000</td>\n",
       "      <td>0.871000</td>\n",
       "      <td>8.780000</td>\n",
       "      <td>100.000000</td>\n",
       "      <td>12.126500</td>\n",
       "      <td>24.000000</td>\n",
       "      <td>711.000000</td>\n",
       "      <td>22.000000</td>\n",
       "      <td>396.900000</td>\n",
       "      <td>37.970000</td>\n",
       "      <td>50.000000</td>\n",
       "    </tr>\n",
       "  </tbody>\n",
       "</table>\n",
       "</div>"
      ],
      "text/plain": [
       "             CRIM          ZN       INDUS        CHAS         NOX          RM  \\\n",
       "count  506.000000  506.000000  506.000000  506.000000  506.000000  506.000000   \n",
       "mean     3.613524   11.363636   11.136779    0.069170    0.554695    6.284634   \n",
       "std      8.601545   23.322453    6.860353    0.253994    0.115878    0.702617   \n",
       "min      0.006320    0.000000    0.460000    0.000000    0.385000    3.561000   \n",
       "25%      0.082045    0.000000    5.190000    0.000000    0.449000    5.885500   \n",
       "50%      0.256510    0.000000    9.690000    0.000000    0.538000    6.208500   \n",
       "75%      3.677083   12.500000   18.100000    0.000000    0.624000    6.623500   \n",
       "max     88.976200  100.000000   27.740000    1.000000    0.871000    8.780000   \n",
       "\n",
       "              AGE         DIS         RAD         TAX     PTRATIO           B  \\\n",
       "count  506.000000  506.000000  506.000000  506.000000  506.000000  506.000000   \n",
       "mean    68.574901    3.795043    9.549407  408.237154   18.455534  356.674032   \n",
       "std     28.148861    2.105710    8.707259  168.537116    2.164946   91.294864   \n",
       "min      2.900000    1.129600    1.000000  187.000000   12.600000    0.320000   \n",
       "25%     45.025000    2.100175    4.000000  279.000000   17.400000  375.377500   \n",
       "50%     77.500000    3.207450    5.000000  330.000000   19.050000  391.440000   \n",
       "75%     94.075000    5.188425   24.000000  666.000000   20.200000  396.225000   \n",
       "max    100.000000   12.126500   24.000000  711.000000   22.000000  396.900000   \n",
       "\n",
       "            LSTAT       Price  \n",
       "count  506.000000  506.000000  \n",
       "mean    12.653063   22.532806  \n",
       "std      7.141062    9.197104  \n",
       "min      1.730000    5.000000  \n",
       "25%      6.950000   17.025000  \n",
       "50%     11.360000   21.200000  \n",
       "75%     16.955000   25.000000  \n",
       "max     37.970000   50.000000  "
      ]
     },
     "execution_count": 9,
     "metadata": {},
     "output_type": "execute_result"
    }
   ],
   "source": [
    "df.describe()"
   ]
  },
  {
   "cell_type": "code",
   "execution_count": 11,
   "id": "8da960db",
   "metadata": {},
   "outputs": [
    {
     "data": {
      "text/plain": [
       "<AxesSubplot:>"
      ]
     },
     "execution_count": 11,
     "metadata": {},
     "output_type": "execute_result"
    },
    {
     "data": {
      "image/png": "[encoded data removed]",
      "text/plain": [
       "<Figure size 432x288 with 1 Axes>"
      ]
     },
     "metadata": {
      "needs_background": "light"
     },
     "output_type": "display_data"
    }
   ],
   "source": [
    "df[[\"CRIM\"]boxplot()"
   ]
  },
  {
   "cell_type": "code",
   "execution_count": 10,
   "id": "37eb154d",
   "metadata": {},
   "outputs": [
    {
     "data": {
      "text/plain": [
       "<AxesSubplot:xlabel='CRIM'>"
      ]
     },
     "execution_count": 10,
     "metadata": {},
     "output_type": "execute_result"
    },
    {
     "data": {
      "image/png": "[encoded data removed]",
      "text/plain": [
       "<Figure size 432x288 with 1 Axes>"
      ]
     },
     "metadata": {
      "needs_background": "light"
     },
     "output_type": "display_data"
    }
   ],
   "source": [
    "sns.boxplot(df[\"CRIM\"])"
   ]
  },
  {
   "cell_type": "markdown",
   "id": "2d01fb68",
   "metadata": {},
   "source": [
    "## Model Training and Model Selection"
   ]
  },
  {
   "cell_type": "code",
   "execution_count": 12,
   "id": "5cdcd955",
   "metadata": {},
   "outputs": [],
   "source": [
    "x = df.drop(\"Price\",axis=1)\n",
    "y = df[\"Price\"]\n",
    "x_train,x_test,y_train,y_test = train_test_split(x,y,test_size=0.25,random_state=45)"
   ]
  },
  {
   "cell_type": "code",
   "execution_count": 13,
   "id": "79096389",
   "metadata": {},
   "outputs": [
    {
     "data": {
      "text/plain": [
       "KNeighborsRegressor()"
      ]
     },
     "execution_count": 13,
     "metadata": {},
     "output_type": "execute_result"
    }
   ],
   "source": [
    "knn_reg = KNeighborsRegressor() # k=5,p=2 (E.D)\n",
    "knn_reg.fit(x_train,y_train)"
   ]
  },
  {
   "cell_type": "markdown",
   "id": "e6fdf044",
   "metadata": {},
   "source": [
    "## Evaluation"
   ]
  },
  {
   "cell_type": "code",
   "execution_count": 14,
   "id": "41bb149b",
   "metadata": {},
   "outputs": [
    {
     "name": "stdout",
     "output_type": "stream",
     "text": [
      "MSE 54.72087244094489\n",
      "mae 5.276692913385826\n",
      "R2 score 0.45995789449105906\n"
     ]
    }
   ],
   "source": [
    "\n",
    "# Testing\n",
    "y_pred_test = knn_reg.predict(x_test)\n",
    "\n",
    "mse = mean_squared_error(y_test,y_pred_test)\n",
    "print(\"MSE\",mse)\n",
    "mae = mean_absolute_error(y_test,y_pred_test)\n",
    "print(\"mae\",mae)\n",
    "\n",
    "R2_Score = r2_score(y_test,y_pred_test)\n",
    "print(\"R2 score\",R2_Score)"
   ]
  },
  {
   "cell_type": "code",
   "execution_count": 15,
   "id": "558b9802",
   "metadata": {},
   "outputs": [
    {
     "name": "stdout",
     "output_type": "stream",
     "text": [
      "MSE 23.38893403693931\n",
      "mae 3.3179419525065965\n",
      "R2 score 0.7029362280159883\n"
     ]
    }
   ],
   "source": [
    "# Training\n",
    "y_pred_train = knn_reg.predict(x_train)\n",
    "\n",
    "mse = mean_squared_error(y_train,y_pred_train)\n",
    "print(\"MSE\",mse)\n",
    "mae = mean_absolute_error(y_train,y_pred_train)\n",
    "print(\"mae\",mae)\n",
    "\n",
    "R2_Score = r2_score(y_train,y_pred_train)\n",
    "print(\"R2 score\",R2_Score)"
   ]
  },
  {
   "cell_type": "markdown",
   "id": "6518d7be",
   "metadata": {},
   "source": [
    "## Linear_regression"
   ]
  },
  {
   "cell_type": "code",
   "execution_count": 18,
   "id": "b88be3e5",
   "metadata": {},
   "outputs": [
    {
     "data": {
      "text/plain": [
       "LinearRegression()"
      ]
     },
     "execution_count": 18,
     "metadata": {},
     "output_type": "execute_result"
    }
   ],
   "source": [
    "lr_model = LinearRegression()\n",
    "lr_model.fit(x_train,y_train)"
   ]
  },
  {
   "cell_type": "code",
   "execution_count": 19,
   "id": "e62d1b5c",
   "metadata": {},
   "outputs": [
    {
     "name": "stdout",
     "output_type": "stream",
     "text": [
      "MSE 25.150352516949603\n",
      "mae 3.685196949910204\n",
      "R2 score 0.7517903366361053\n"
     ]
    }
   ],
   "source": [
    "# Testing\n",
    "y_pred_test = lr_model.predict(x_test)\n",
    "\n",
    "mse = mean_squared_error(y_test,y_pred_test)\n",
    "print(\"MSE\",mse)\n",
    "mae = mean_absolute_error(y_test,y_pred_test)\n",
    "print(\"mae\",mae)\n",
    "\n",
    "R2_Score = r2_score(y_test,y_pred_test)\n",
    "print(\"R2 score\",R2_Score)"
   ]
  },
  {
   "cell_type": "markdown",
   "id": "020fe13a",
   "metadata": {},
   "source": [
    "## Hyperparameter Tuning"
   ]
  },
  {
   "cell_type": "code",
   "execution_count": null,
   "id": "2f6d29b4",
   "metadata": {},
   "outputs": [],
   "source": [
    "# p=2 & k=?\n",
    "# p=1 & k=?"
   ]
  },
  {
   "cell_type": "code",
   "execution_count": 26,
   "id": "57f32fa8",
   "metadata": {},
   "outputs": [
    {
     "data": {
      "text/plain": [
       "Text(0.5, 1.0, 'Comparison Between Training and Testing Accuracies')"
      ]
     },
     "execution_count": 26,
     "metadata": {},
     "output_type": "execute_result"
    },
    {
     "data": {
      "image/png": "[encoded data removed]",
      "text/plain": [
       "<Figure size 1440x720 with 1 Axes>"
      ]
     },
     "metadata": {
      "needs_background": "light"
     },
     "output_type": "display_data"
    }
   ],
   "source": [
    "r2_train_list = []\n",
    "r2_test_list = []\n",
    "k_values = range(2,21)\n",
    "for k in k_values:\n",
    "    knn_reg = KNeighborsRegressor(n_neighbors=k,p=2)\n",
    "    knn_reg.fit(x_train,y_train)\n",
    "    # Training\n",
    "    r2_train = knn_reg.score(x_train,y_train)\n",
    "    r2_train_list.append(r2_train)\n",
    "    # Testing\n",
    "    r2_test = knn_reg.score(x_test,y_test)\n",
    "    r2_test_list.append(r2_test)\n",
    "#     break\n",
    "plt.figure(figsize=(20,10))\n",
    "plt.plot(k_values,r2_train_list,color=\"green\")\n",
    "plt.plot(k_values,r2_test_list)\n",
    "plt.xlabel(\"K_VALUES\")\n",
    "plt.ylabel(\"Accuracy\")\n",
    "plt.title(\"Comparison Between Training and Testing Accuracies\")\n",
    "\n"
   ]
  },
  {
   "cell_type": "code",
   "execution_count": 27,
   "id": "253ed193",
   "metadata": {},
   "outputs": [
    {
     "data": {
      "text/plain": [
       "Text(0.5, 1.0, 'Comparison Between Training and Testing Accuracies')"
      ]
     },
     "execution_count": 27,
     "metadata": {},
     "output_type": "execute_result"
    },
    {
     "data": {
      "image/png": "[encoded data removed]",
      "text/plain": [
       "<Figure size 1440x720 with 1 Axes>"
      ]
     },
     "metadata": {
      "needs_background": "light"
     },
     "output_type": "display_data"
    }
   ],
   "source": [
    "r2_train_list = []\n",
    "r2_test_list = []\n",
    "k_values = range(2,21)\n",
    "for k in k_values:\n",
    "    knn_reg = KNeighborsRegressor(n_neighbors=k,p=1)\n",
    "    knn_reg.fit(x_train,y_train)\n",
    "    # Training\n",
    "    r2_train = knn_reg.score(x_train,y_train)\n",
    "    r2_train_list.append(r2_train)\n",
    "    # Testing\n",
    "    r2_test = knn_reg.score(x_test,y_test)\n",
    "    r2_test_list.append(r2_test)\n",
    "#     break\n",
    "plt.figure(figsize=(20,10))\n",
    "plt.plot(k_values,r2_train_list,color=\"green\")\n",
    "plt.plot(k_values,r2_test_list)\n",
    "plt.xlabel(\"K_VALUES\")\n",
    "plt.ylabel(\"Accuracy\")\n",
    "plt.title(\"Comparison Between Training and Testing Accuracies\")\n",
    "\n"
   ]
  },
  {
   "cell_type": "code",
   "execution_count": null,
   "id": "a3aae62c",
   "metadata": {},
   "outputs": [],
   "source": [
    "# k=2,p=1"
   ]
  },
  {
   "cell_type": "code",
   "execution_count": 28,
   "id": "3a14847b",
   "metadata": {},
   "outputs": [
    {
     "data": {
      "text/plain": [
       "KNeighborsRegressor(n_neighbors=2, p=1)"
      ]
     },
     "execution_count": 28,
     "metadata": {},
     "output_type": "execute_result"
    }
   ],
   "source": [
    "knn_reg = KNeighborsRegressor(n_neighbors=2,p=1) # k=5,p=2 (E.D)\n",
    "knn_reg.fit(x_train,y_train)"
   ]
  },
  {
   "cell_type": "code",
   "execution_count": 29,
   "id": "0fcab440",
   "metadata": {},
   "outputs": [
    {
     "name": "stdout",
     "output_type": "stream",
     "text": [
      "MSE 37.774468503937015\n",
      "mae 4.349212598425197\n",
      "R2 score 0.6272025171498696\n"
     ]
    }
   ],
   "source": [
    "\n",
    "# Testing\n",
    "y_pred_test = knn_reg.predict(x_test)\n",
    "\n",
    "mse = mean_squared_error(y_test,y_pred_test)\n",
    "print(\"MSE\",mse)\n",
    "mae = mean_absolute_error(y_test,y_pred_test)\n",
    "print(\"mae\",mae)\n",
    "\n",
    "R2_Score = r2_score(y_test,y_pred_test)\n",
    "print(\"R2 score\",R2_Score)"
   ]
  },
  {
   "cell_type": "code",
   "execution_count": 30,
   "id": "1f5179a9",
   "metadata": {},
   "outputs": [
    {
     "name": "stdout",
     "output_type": "stream",
     "text": [
      "MSE 11.228509234828495\n",
      "mae 2.1242744063324537\n",
      "R2 score 0.8573862621619519\n"
     ]
    }
   ],
   "source": [
    "# Training\n",
    "y_pred_train = knn_reg.predict(x_train)\n",
    "\n",
    "mse = mean_squared_error(y_train,y_pred_train)\n",
    "print(\"MSE\",mse)\n",
    "mae = mean_absolute_error(y_train,y_pred_train)\n",
    "print(\"mae\",mae)\n",
    "\n",
    "R2_Score = r2_score(y_train,y_pred_train)\n",
    "print(\"R2 score\",R2_Score)"
   ]
  },
  {
   "cell_type": "markdown",
   "id": "8735f13a",
   "metadata": {},
   "source": [
    "## Feature Engineering"
   ]
  },
  {
   "cell_type": "code",
   "execution_count": 59,
   "id": "b0b6cf7d",
   "metadata": {},
   "outputs": [],
   "source": [
    "x = df.drop(\"Price\",axis=1)\n",
    "y = df[\"Price\"]\n",
    "x_train,x_test,y_train,y_test = train_test_split(x,y,test_size=0.20,random_state=11)"
   ]
  },
  {
   "cell_type": "markdown",
   "id": "01921d06",
   "metadata": {},
   "source": [
    "## 1) Normalization"
   ]
  },
  {
   "cell_type": "code",
   "execution_count": 60,
   "id": "c2a390fd",
   "metadata": {},
   "outputs": [
    {
     "data": {
      "text/html": [
       "<div>\n",
       "<style scoped>\n",
       "    .dataframe tbody tr th:only-of-type {\n",
       "        vertical-align: middle;\n",
       "    }\n",
       "\n",
       "    .dataframe tbody tr th {\n",
       "        vertical-align: top;\n",
       "    }\n",
       "\n",
       "    .dataframe thead th {\n",
       "        text-align: right;\n",
       "    }\n",
       "</style>\n",
       "<table border=\"1\" class=\"dataframe\">\n",
       "  <thead>\n",
       "    <tr style=\"text-align: right;\">\n",
       "      <th></th>\n",
       "      <th>CRIM</th>\n",
       "      <th>ZN</th>\n",
       "      <th>INDUS</th>\n",
       "      <th>CHAS</th>\n",
       "      <th>NOX</th>\n",
       "      <th>RM</th>\n",
       "      <th>AGE</th>\n",
       "      <th>DIS</th>\n",
       "      <th>RAD</th>\n",
       "      <th>TAX</th>\n",
       "      <th>PTRATIO</th>\n",
       "      <th>B</th>\n",
       "      <th>LSTAT</th>\n",
       "    </tr>\n",
       "  </thead>\n",
       "  <tbody>\n",
       "    <tr>\n",
       "      <th>0</th>\n",
       "      <td>0.001343</td>\n",
       "      <td>0.473684</td>\n",
       "      <td>0.109238</td>\n",
       "      <td>0.0</td>\n",
       "      <td>0.106996</td>\n",
       "      <td>0.553887</td>\n",
       "      <td>0.269825</td>\n",
       "      <td>0.312552</td>\n",
       "      <td>0.173913</td>\n",
       "      <td>0.402672</td>\n",
       "      <td>0.276596</td>\n",
       "      <td>0.964547</td>\n",
       "      <td>0.078091</td>\n",
       "    </tr>\n",
       "    <tr>\n",
       "      <th>1</th>\n",
       "      <td>0.005273</td>\n",
       "      <td>0.000000</td>\n",
       "      <td>0.346041</td>\n",
       "      <td>0.0</td>\n",
       "      <td>0.327160</td>\n",
       "      <td>0.462773</td>\n",
       "      <td>0.575695</td>\n",
       "      <td>0.261192</td>\n",
       "      <td>0.130435</td>\n",
       "      <td>0.223282</td>\n",
       "      <td>0.617021</td>\n",
       "      <td>0.998311</td>\n",
       "      <td>0.303532</td>\n",
       "    </tr>\n",
       "    <tr>\n",
       "      <th>2</th>\n",
       "      <td>0.009506</td>\n",
       "      <td>0.000000</td>\n",
       "      <td>0.281525</td>\n",
       "      <td>0.0</td>\n",
       "      <td>0.314815</td>\n",
       "      <td>0.432332</td>\n",
       "      <td>0.888774</td>\n",
       "      <td>0.262138</td>\n",
       "      <td>0.130435</td>\n",
       "      <td>0.229008</td>\n",
       "      <td>0.893617</td>\n",
       "      <td>0.988981</td>\n",
       "      <td>0.333885</td>\n",
       "    </tr>\n",
       "    <tr>\n",
       "      <th>3</th>\n",
       "      <td>0.007099</td>\n",
       "      <td>0.000000</td>\n",
       "      <td>0.281525</td>\n",
       "      <td>0.0</td>\n",
       "      <td>0.314815</td>\n",
       "      <td>0.459276</td>\n",
       "      <td>0.840371</td>\n",
       "      <td>0.303022</td>\n",
       "      <td>0.130435</td>\n",
       "      <td>0.229008</td>\n",
       "      <td>0.893617</td>\n",
       "      <td>0.957436</td>\n",
       "      <td>0.235375</td>\n",
       "    </tr>\n",
       "    <tr>\n",
       "      <th>4</th>\n",
       "      <td>0.063658</td>\n",
       "      <td>0.000000</td>\n",
       "      <td>0.646628</td>\n",
       "      <td>1.0</td>\n",
       "      <td>0.506173</td>\n",
       "      <td>0.580008</td>\n",
       "      <td>0.967044</td>\n",
       "      <td>0.020651</td>\n",
       "      <td>1.000000</td>\n",
       "      <td>0.914122</td>\n",
       "      <td>0.808511</td>\n",
       "      <td>0.945610</td>\n",
       "      <td>0.055188</td>\n",
       "    </tr>\n",
       "    <tr>\n",
       "      <th>...</th>\n",
       "      <td>...</td>\n",
       "      <td>...</td>\n",
       "      <td>...</td>\n",
       "      <td>...</td>\n",
       "      <td>...</td>\n",
       "      <td>...</td>\n",
       "      <td>...</td>\n",
       "      <td>...</td>\n",
       "      <td>...</td>\n",
       "      <td>...</td>\n",
       "      <td>...</td>\n",
       "      <td>...</td>\n",
       "      <td>...</td>\n",
       "    </tr>\n",
       "    <tr>\n",
       "      <th>399</th>\n",
       "      <td>0.000271</td>\n",
       "      <td>0.000000</td>\n",
       "      <td>0.173387</td>\n",
       "      <td>0.0</td>\n",
       "      <td>0.267490</td>\n",
       "      <td>0.417935</td>\n",
       "      <td>0.583934</td>\n",
       "      <td>0.407879</td>\n",
       "      <td>0.173913</td>\n",
       "      <td>0.070611</td>\n",
       "      <td>0.808511</td>\n",
       "      <td>0.994730</td>\n",
       "      <td>0.243653</td>\n",
       "    </tr>\n",
       "    <tr>\n",
       "      <th>400</th>\n",
       "      <td>0.000371</td>\n",
       "      <td>0.000000</td>\n",
       "      <td>0.108138</td>\n",
       "      <td>0.0</td>\n",
       "      <td>0.213992</td>\n",
       "      <td>0.522830</td>\n",
       "      <td>0.731205</td>\n",
       "      <td>0.178459</td>\n",
       "      <td>0.043478</td>\n",
       "      <td>0.158397</td>\n",
       "      <td>0.553191</td>\n",
       "      <td>0.991553</td>\n",
       "      <td>0.178532</td>\n",
       "    </tr>\n",
       "    <tr>\n",
       "      <th>401</th>\n",
       "      <td>0.000391</td>\n",
       "      <td>0.263158</td>\n",
       "      <td>0.161290</td>\n",
       "      <td>0.0</td>\n",
       "      <td>0.084362</td>\n",
       "      <td>0.589058</td>\n",
       "      <td>0.315139</td>\n",
       "      <td>0.388391</td>\n",
       "      <td>0.130435</td>\n",
       "      <td>0.179389</td>\n",
       "      <td>0.680851</td>\n",
       "      <td>1.000000</td>\n",
       "      <td>0.098234</td>\n",
       "    </tr>\n",
       "    <tr>\n",
       "      <th>402</th>\n",
       "      <td>0.000706</td>\n",
       "      <td>0.473684</td>\n",
       "      <td>0.109238</td>\n",
       "      <td>0.0</td>\n",
       "      <td>0.106996</td>\n",
       "      <td>0.591526</td>\n",
       "      <td>0.287333</td>\n",
       "      <td>0.486519</td>\n",
       "      <td>0.173913</td>\n",
       "      <td>0.402672</td>\n",
       "      <td>0.276596</td>\n",
       "      <td>0.981870</td>\n",
       "      <td>0.081678</td>\n",
       "    </tr>\n",
       "    <tr>\n",
       "      <th>403</th>\n",
       "      <td>0.162212</td>\n",
       "      <td>0.000000</td>\n",
       "      <td>0.646628</td>\n",
       "      <td>0.0</td>\n",
       "      <td>0.436214</td>\n",
       "      <td>0.614768</td>\n",
       "      <td>1.000000</td>\n",
       "      <td>0.030545</td>\n",
       "      <td>1.000000</td>\n",
       "      <td>0.914122</td>\n",
       "      <td>0.808511</td>\n",
       "      <td>0.451460</td>\n",
       "      <td>0.498068</td>\n",
       "    </tr>\n",
       "  </tbody>\n",
       "</table>\n",
       "<p>404 rows × 13 columns</p>\n",
       "</div>"
      ],
      "text/plain": [
       "         CRIM        ZN     INDUS  CHAS       NOX        RM       AGE  \\\n",
       "0    0.001343  0.473684  0.109238   0.0  0.106996  0.553887  0.269825   \n",
       "1    0.005273  0.000000  0.346041   0.0  0.327160  0.462773  0.575695   \n",
       "2    0.009506  0.000000  0.281525   0.0  0.314815  0.432332  0.888774   \n",
       "3    0.007099  0.000000  0.281525   0.0  0.314815  0.459276  0.840371   \n",
       "4    0.063658  0.000000  0.646628   1.0  0.506173  0.580008  0.967044   \n",
       "..        ...       ...       ...   ...       ...       ...       ...   \n",
       "399  0.000271  0.000000  0.173387   0.0  0.267490  0.417935  0.583934   \n",
       "400  0.000371  0.000000  0.108138   0.0  0.213992  0.522830  0.731205   \n",
       "401  0.000391  0.263158  0.161290   0.0  0.084362  0.589058  0.315139   \n",
       "402  0.000706  0.473684  0.109238   0.0  0.106996  0.591526  0.287333   \n",
       "403  0.162212  0.000000  0.646628   0.0  0.436214  0.614768  1.000000   \n",
       "\n",
       "          DIS       RAD       TAX   PTRATIO         B     LSTAT  \n",
       "0    0.312552  0.173913  0.402672  0.276596  0.964547  0.078091  \n",
       "1    0.261192  0.130435  0.223282  0.617021  0.998311  0.303532  \n",
       "2    0.262138  0.130435  0.229008  0.893617  0.988981  0.333885  \n",
       "3    0.303022  0.130435  0.229008  0.893617  0.957436  0.235375  \n",
       "4    0.020651  1.000000  0.914122  0.808511  0.945610  0.055188  \n",
       "..        ...       ...       ...       ...       ...       ...  \n",
       "399  0.407879  0.173913  0.070611  0.808511  0.994730  0.243653  \n",
       "400  0.178459  0.043478  0.158397  0.553191  0.991553  0.178532  \n",
       "401  0.388391  0.130435  0.179389  0.680851  1.000000  0.098234  \n",
       "402  0.486519  0.173913  0.402672  0.276596  0.981870  0.081678  \n",
       "403  0.030545  1.000000  0.914122  0.808511  0.451460  0.498068  \n",
       "\n",
       "[404 rows x 13 columns]"
      ]
     },
     "execution_count": 60,
     "metadata": {},
     "output_type": "execute_result"
    }
   ],
   "source": [
    "normal_scalar = MinMaxScaler()\n",
    "normal_scalar.fit(x_train) #\n",
    "array = normal_scalar.transform(x_train)\n",
    "normal_train_df = pd.DataFrame(array,columns=x_train.columns)\n",
    "normal_train_df"
   ]
  },
  {
   "cell_type": "code",
   "execution_count": 61,
   "id": "326d6d35",
   "metadata": {},
   "outputs": [
    {
     "data": {
      "text/plain": [
       "KNeighborsRegressor(n_neighbors=2, p=1)"
      ]
     },
     "execution_count": 61,
     "metadata": {},
     "output_type": "execute_result"
    }
   ],
   "source": [
    "knn_reg = KNeighborsRegressor(n_neighbors=2,p=1) # k=5,p=2 (E.D)\n",
    "knn_reg.fit(normal_train_df,y_train)"
   ]
  },
  {
   "cell_type": "code",
   "execution_count": 62,
   "id": "279a5458",
   "metadata": {},
   "outputs": [
    {
     "name": "stdout",
     "output_type": "stream",
     "text": [
      "MSE 26.850024509803916\n",
      "mae 3.123039215686274\n",
      "R2 score 0.6870543392607469\n"
     ]
    }
   ],
   "source": [
    "# Testing\n",
    "array = normal_scalar.transform(x_test)\n",
    "normal_test_df = pd.DataFrame(array,columns=x_test.columns)\n",
    "# normal_test_df\n",
    "\n",
    "y_pred_test = knn_reg.predict(normal_test_df)\n",
    "\n",
    "mse = mean_squared_error(y_test,y_pred_test)\n",
    "print(\"MSE\",mse)\n",
    "mae = mean_absolute_error(y_test,y_pred_test)\n",
    "print(\"mae\",mae)\n",
    "\n",
    "R2_Score = r2_score(y_test,y_pred_test)\n",
    "print(\"R2 score\",R2_Score)"
   ]
  },
  {
   "cell_type": "code",
   "execution_count": 63,
   "id": "27706d42",
   "metadata": {},
   "outputs": [
    {
     "name": "stdout",
     "output_type": "stream",
     "text": [
      "MSE 5.3369245049504945\n",
      "mae 1.5073019801980199\n",
      "R2 score 0.9364501860783226\n"
     ]
    }
   ],
   "source": [
    "# Training\n",
    "y_pred_train = knn_reg.predict(normal_train_df)\n",
    "\n",
    "mse = mean_squared_error(y_train,y_pred_train)\n",
    "print(\"MSE\",mse)\n",
    "mae = mean_absolute_error(y_train,y_pred_train)\n",
    "print(\"mae\",mae)\n",
    "\n",
    "R2_Score = r2_score(y_train,y_pred_train)\n",
    "print(\"R2 score\",R2_Score)"
   ]
  },
  {
   "cell_type": "markdown",
   "id": "cbae98d4",
   "metadata": {},
   "source": [
    "## Find k &p Value after scaling"
   ]
  },
  {
   "cell_type": "code",
   "execution_count": 64,
   "id": "eaf13d1e",
   "metadata": {},
   "outputs": [
    {
     "data": {
      "text/plain": [
       "Text(0.5, 1.0, 'Comparison Between Training and Testing Accuracies')"
      ]
     },
     "execution_count": 64,
     "metadata": {},
     "output_type": "execute_result"
    },
    {
     "data": {
      "image/png": "[encoded data removed]",
      "text/plain": [
       "<Figure size 1440x720 with 1 Axes>"
      ]
     },
     "metadata": {
      "needs_background": "light"
     },
     "output_type": "display_data"
    }
   ],
   "source": [
    "r2_train_list = []\n",
    "r2_test_list = []\n",
    "k_values = range(2,21)\n",
    "for k in k_values:\n",
    "    knn_reg = KNeighborsRegressor(n_neighbors=k,p=2)\n",
    "    knn_reg.fit(normal_train_df,y_train)\n",
    "    # Training\n",
    "    r2_train = knn_reg.score(normal_train_df,y_train)\n",
    "    r2_train_list.append(r2_train)\n",
    "    # Testing\n",
    "    r2_test = knn_reg.score(normal_test_df,y_test)\n",
    "    r2_test_list.append(r2_test)\n",
    "#     break\n",
    "plt.figure(figsize=(20,10))\n",
    "plt.plot(k_values,r2_train_list,color=\"green\")\n",
    "plt.plot(k_values,r2_test_list)\n",
    "plt.xlabel(\"K_VALUES\")\n",
    "plt.ylabel(\"Accuracy\")\n",
    "plt.title(\"Comparison Between Training and Testing Accuracies\")\n",
    "\n"
   ]
  },
  {
   "cell_type": "code",
   "execution_count": 65,
   "id": "75492b3b",
   "metadata": {},
   "outputs": [
    {
     "data": {
      "text/plain": [
       "Text(0.5, 1.0, 'Comparison Between Training and Testing Accuracies')"
      ]
     },
     "execution_count": 65,
     "metadata": {},
     "output_type": "execute_result"
    },
    {
     "data": {
      "image/png": "[encoded data removed]",
      "text/plain": [
       "<Figure size 1440x720 with 1 Axes>"
      ]
     },
     "metadata": {
      "needs_background": "light"
     },
     "output_type": "display_data"
    }
   ],
   "source": [
    "r2_train_list = []\n",
    "r2_test_list = []\n",
    "k_values = range(2,21)\n",
    "for k in k_values:\n",
    "    knn_reg = KNeighborsRegressor(n_neighbors=k,p=1)\n",
    "    knn_reg.fit(normal_train_df,y_train)\n",
    "    # Training\n",
    "    r2_train = knn_reg.score(normal_train_df,y_train)\n",
    "    r2_train_list.append(r2_train)\n",
    "    # Testing\n",
    "    r2_test = knn_reg.score(normal_test_df,y_test)\n",
    "    r2_test_list.append(r2_test)\n",
    "#     break\n",
    "plt.figure(figsize=(20,10))\n",
    "plt.plot(k_values,r2_train_list,color=\"green\")\n",
    "plt.plot(k_values,r2_test_list)\n",
    "plt.xlabel(\"K_VALUES\")\n",
    "plt.ylabel(\"Accuracy\")\n",
    "plt.title(\"Comparison Between Training and Testing Accuracies\")\n",
    "\n"
   ]
  },
  {
   "cell_type": "markdown",
   "id": "091a58ff",
   "metadata": {},
   "source": [
    "## 2) Standardization"
   ]
  },
  {
   "cell_type": "code",
   "execution_count": 66,
   "id": "74ac57ff",
   "metadata": {},
   "outputs": [],
   "source": [
    "std_scalar = StandardScaler()\n",
    "std_scalar.fit(x_train)\n",
    "array = std_scalar.transform(x_train)\n",
    "std_train_df = pd.DataFrame(array,columns=x_train.columns)\n",
    "# std_train_df"
   ]
  },
  {
   "cell_type": "code",
   "execution_count": 67,
   "id": "0ab45f51",
   "metadata": {},
   "outputs": [],
   "source": [
    "# without scaling and without hyperparamtere\n",
    "# with hyperparameter but without scaling\n",
    "# both"
   ]
  },
  {
   "cell_type": "code",
   "execution_count": 68,
   "id": "b03fbaff",
   "metadata": {},
   "outputs": [
    {
     "data": {
      "text/plain": [
       "KNeighborsRegressor(n_neighbors=2, p=1)"
      ]
     },
     "execution_count": 68,
     "metadata": {},
     "output_type": "execute_result"
    }
   ],
   "source": [
    "knn_reg = KNeighborsRegressor(n_neighbors=2,p=1) # k=5,p=2 (E.D)\n",
    "knn_reg.fit(std_train_df,y_train)"
   ]
  },
  {
   "cell_type": "code",
   "execution_count": 69,
   "id": "2c5c0f78",
   "metadata": {},
   "outputs": [
    {
     "name": "stdout",
     "output_type": "stream",
     "text": [
      "MSE 5.13029702970297\n",
      "mae 1.4801980198019802\n",
      "R2 score 0.9389106176603894\n"
     ]
    }
   ],
   "source": [
    "# Training\n",
    "y_pred_train = knn_reg.predict(std_train_df)\n",
    "\n",
    "mse = mean_squared_error(y_train,y_pred_train)\n",
    "print(\"MSE\",mse)\n",
    "mae = mean_absolute_error(y_train,y_pred_train)\n",
    "print(\"mae\",mae)\n",
    "\n",
    "R2_Score = r2_score(y_train,y_pred_train)\n",
    "print(\"R2 score\",R2_Score)"
   ]
  },
  {
   "cell_type": "code",
   "execution_count": 70,
   "id": "496a74f8",
   "metadata": {},
   "outputs": [
    {
     "name": "stdout",
     "output_type": "stream",
     "text": [
      "MSE 25.401544117647052\n",
      "mae 2.897549019607842\n",
      "R2 score 0.7039368435290714\n"
     ]
    }
   ],
   "source": [
    "# Testing\n",
    "array = std_scalar.transform(x_test)\n",
    "std_test_df = pd.DataFrame(array,columns=x_test.columns)\n",
    "# normal_test_df\n",
    "\n",
    "y_pred_test = knn_reg.predict(std_test_df)\n",
    "\n",
    "mse = mean_squared_error(y_test,y_pred_test)\n",
    "print(\"MSE\",mse)\n",
    "mae = mean_absolute_error(y_test,y_pred_test)\n",
    "print(\"mae\",mae)\n",
    "\n",
    "R2_Score = r2_score(y_test,y_pred_test)\n",
    "print(\"R2 score\",R2_Score)"
   ]
  },
  {
   "cell_type": "markdown",
   "id": "97f6a7e1",
   "metadata": {},
   "source": [
    "## Hyper paramter"
   ]
  },
  {
   "cell_type": "code",
   "execution_count": 71,
   "id": "c2bf64cf",
   "metadata": {},
   "outputs": [
    {
     "data": {
      "text/plain": [
       "Text(0.5, 1.0, 'Comparison Between Training and Testing Accuracies')"
      ]
     },
     "execution_count": 71,
     "metadata": {},
     "output_type": "execute_result"
    },
    {
     "data": {
      "image/png": "[encoded data removed]",
      "text/plain": [
       "<Figure size 1440x720 with 1 Axes>"
      ]
     },
     "metadata": {
      "needs_background": "light"
     },
     "output_type": "display_data"
    }
   ],
   "source": [
    "r2_train_list = []\n",
    "r2_test_list = []\n",
    "k_values = range(2,21)\n",
    "for k in k_values:\n",
    "    knn_reg = KNeighborsRegressor(n_neighbors=k,p=2)\n",
    "    knn_reg.fit(std_train_df,y_train)\n",
    "    # Training\n",
    "    r2_train = knn_reg.score(std_train_df,y_train)\n",
    "    r2_train_list.append(r2_train)\n",
    "    # Testing\n",
    "    r2_test = knn_reg.score(std_test_df,y_test)\n",
    "    r2_test_list.append(r2_test)\n",
    "#     break\n",
    "plt.figure(figsize=(20,10))\n",
    "plt.plot(k_values,r2_train_list,color=\"green\")\n",
    "plt.plot(k_values,r2_test_list)\n",
    "plt.xlabel(\"K_VALUES\")\n",
    "plt.ylabel(\"Accuracy\")\n",
    "plt.title(\"Comparison Between Training and Testing Accuracies\")\n",
    "\n"
   ]
  },
  {
   "cell_type": "code",
   "execution_count": 72,
   "id": "ba1af8b7",
   "metadata": {},
   "outputs": [
    {
     "data": {
      "text/plain": [
       "Text(0.5, 1.0, 'Comparison Between Training and Testing Accuracies')"
      ]
     },
     "execution_count": 72,
     "metadata": {},
     "output_type": "execute_result"
    },
    {
     "data": {
      "image/png": "[encoded data removed]",
      "text/plain": [
       "<Figure size 1440x720 with 1 Axes>"
      ]
     },
     "metadata": {
      "needs_background": "light"
     },
     "output_type": "display_data"
    }
   ],
   "source": [
    "r2_train_list = []\n",
    "r2_test_list = []\n",
    "k_values = range(2,30)\n",
    "for k in k_values:\n",
    "    knn_reg = KNeighborsRegressor(n_neighbors=k,p=1)\n",
    "    knn_reg.fit(std_train_df,y_train)\n",
    "    # Training\n",
    "    r2_train = knn_reg.score(std_train_df,y_train)\n",
    "    r2_train_list.append(r2_train)\n",
    "    # Testing\n",
    "    r2_test = knn_reg.score(std_test_df,y_test)\n",
    "    r2_test_list.append(r2_test)\n",
    "#     break\n",
    "plt.figure(figsize=(20,10))\n",
    "plt.plot(k_values,r2_train_list,color=\"green\")\n",
    "plt.plot(k_values,r2_test_list)\n",
    "plt.xlabel(\"K_VALUES\")\n",
    "plt.ylabel(\"Accuracy\")\n",
    "plt.title(\"Comparison Between Training and Testing Accuracies\")\n",
    "\n"
   ]
  },
  {
   "cell_type": "code",
   "execution_count": null,
   "id": "a6a83539",
   "metadata": {},
   "outputs": [],
   "source": []
  }
 ],
 "metadata": {
  "kernelspec": {
   "display_name": "Python 3 (ipykernel)",
   "language": "python",
   "name": "python3"
  },
  "language_info": {
   "codemirror_mode": {
    "name": "ipython",
    "version": 3
   },
   "file_extension": ".py",
   "mimetype": "text/x-python",
   "name": "python",
   "nbconvert_exporter": "python",
   "pygments_lexer": "ipython3",
   "version": "3.9.7"
  }
 },
 "nbformat": 4,
 "nbformat_minor": 5
}
